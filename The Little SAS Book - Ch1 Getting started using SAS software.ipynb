{
 "cells": [
  {
   "cell_type": "markdown",
   "id": "4cdd5dd6",
   "metadata": {},
   "source": [
    "# [The Little SAS Book](https://blackwells.co.uk/bookshop/product/The-Little-SAS-Book-A-Primer-Sixth-Edition-by-Delwiche-Lora-D/9781642956160)\n",
    "1. [Getting started using SAS software](#1)"
   ]
  },
  {
   "cell_type": "markdown",
   "id": "6ab351cf",
   "metadata": {},
   "source": [
    "<a name='1'></a>\n",
    "# 1. Getting started using SAS software\n",
    "1. [The SAS language](#1.1)\n",
    "1. [SAS data sets](#1.2)\n",
    "1. [DATA and PROC steps](#1.3) \n",
    "1. [The DATA step's built-in loop](#1.4)\n",
    "1. [Choosing a method for running SAS](#1.5)\n",
    "1. [Reading the SAS log](#1.6)\n",
    "1. [Using SAS system options](#1.7)"
   ]
  },
  {
   "cell_type": "markdown",
   "id": "c825cbe7",
   "metadata": {},
   "source": [
    "<a name='1.1'></a>\n",
    "## 1.1 The SAS language\n",
    "* ___Programs___ are a sequence of statements executed in order, starting with a general one (what you want to do).\n",
    "* ___Statements___ must end with a semicolon.\n",
    "* ___Layout___ is case-insensitive.\n",
    "* ___Comments___ `* text;` or `/* text */` (no semicolon so it can be placed inside statements)"
   ]
  },
  {
   "cell_type": "markdown",
   "id": "26af5098",
   "metadata": {},
   "source": [
    "<a name='1.2'></a>\n",
    "## 1.2 SAS data sets\n",
    "* SAS wants data as a ___SAS data set___.\n",
    "* SAS uses ___RDBMS terminology___\n",
    "    * SAS data sets &rarr; ___tables___\n",
    "    * Observations &rarr; ___rows___\n",
    "    * Variables &rarr; ___columns___\n",
    "* ___Data types___ ___numeric___, ___character___.\n",
    "* ___Missing data___\n",
    "    * character &rarr; ___blanks___\n",
    "    * numeric &rarr; ___period___\n",
    "* ___Data libraries___ collection of SAS data sets.\n",
    "* ___Data members___ individual data sets within a SAS library.\n",
    "* ___Variable names___ (_VALIDVARNAME=V7_)\n",
    "    * <= 32 characters\n",
    "    * start with a letter or underscore\n",
    "    * include only letters, numerals, or underscores.\n",
    "    * case-insensitive, but SAS keeps the case of the first occurence when printing results.\n",
    "* ___Descriptor___ (_PROC CONTENTS_) data set's metadata saved automatically."
   ]
  },
  {
   "cell_type": "markdown",
   "id": "85724cd0",
   "metadata": {},
   "source": [
    "<a name='1.3'></a>\n",
    "## 1.3 DATA and PROC steps\n",
    "* ___DATA step___ create or modify a SAS data set.\n",
    "* ___PROC step___ processing the SAS data set.\n",
    "* Most statements work in only one type of step.\n",
    "* A steps ends when SAS encounters:\n",
    "    * a new step (DATA or PROC)\n",
    "    * RUN, QUIT, STOP, ABORT statement\n",
    "    * the end of the program (_batch mode_)\n",
    "    \n",
    "    \n",
    "    \n",
    "|         DATA steps         |             PROC steps            |\n",
    "|:--------------------------:|:---------------------------------:|\n",
    "| Begin with DATA statements |     Begin with PROC statements    |\n",
    "|    read and modify data    | perform specific analysis or task |\n",
    "|    create a SAS data set   |     produce results or reports    |"
   ]
  },
  {
   "cell_type": "markdown",
   "id": "19b7df78",
   "metadata": {},
   "source": [
    "<a name='1.4'></a>\n",
    "## 1.4 The DATA step's built-in loop\n",
    "* DATA steps execute ___line by line___ and ___observation by observation___.\n",
    "    1. Reads first observation.\n",
    "    2. Executes DATA step using that observation.\n",
    "    3. Write the current observation into a new, output data set.\n",
    "    4. Repat process for the second observation.\n",
    "    5. After last observation, it terminates the DATA step."
   ]
  },
  {
   "cell_type": "markdown",
   "id": "13459cfa",
   "metadata": {},
   "source": [
    "<a name='1.5'></a>\n",
    "## 1.5 Choosing a method for running SAS\n",
    "* ___SAS Enterprise Guide___ runs only on Windows.\n",
    "* ___SAS Studio___ runs in web browsers on linux servers.\n",
    "* ___SAS Windowing Environment___ (aka _Display Manager_), less features than EG and Studio. \n",
    "* ___Batch___ or ___Background mode___ a convenient way to set up production jobs to run automatically on a schedule."
   ]
  },
  {
   "cell_type": "markdown",
   "id": "9284f7dc",
   "metadata": {},
   "source": [
    "<a name='1.6'></a>\n",
    "## 1.6 Reading the SAS log\n",
    "* Every time a program is submitted, SAS write messages in the log.\n",
    "* In batch mode the log will be written in a file.\n",
    "* Includes SAS version, enumerated program statements, data sets created after each step, number of obs and vars, errors, warnings, notes, etc."
   ]
  },
  {
   "cell_type": "markdown",
   "id": "e175990f",
   "metadata": {},
   "source": [
    "<a name='1.7'></a>\n",
    "## 1.7 Using SAS system options\n",
    "Parameters you can change that affect SAS: how it words, output display, resources used, error handling, etc.\n",
    "\n",
    "\n",
    "`PROC OPTIONS; RUN;` <br>\n",
    "list of all options along with the current values, but we can specify what we need by adding ___OPTION = (MISSING VALIDVARNAME);___\n",
    "\n",
    "___Changing options settings___ <br>\n",
    "1. Create a ___SAS configuration file___ (accessed by SAS every time SAS is started).\n",
    "2. Specify system options at the time your ___start up SAS___ from your system's prompt (___invocation___).\n",
    "3. Specify system options in an ___autoexec___ file, or in the ___edit autoexec file___ window in SAS studio, or in an ___autoexec process flow___ in SAS EG. \n",
    "4. Use the `OPTIONS` statement as a part of your SAS program.\n",
    "\n",
    "_Methods are listed in order of increasing precedence: method 2 will override method 1, etc._\n",
    "\n",
    "\n",
    "__OPTIONS statement__ `OPTIONS option_name = option_value;`\n",
    "* Special statement (not a DATA or PROC step).\n",
    "* Global statement (can appear anywhere in your program, but usually at the top).\n",
    "* If within in DATA or PROC step, it affects that step and everything that follows."
   ]
  }
 ],
 "metadata": {
  "kernelspec": {
   "display_name": "Python 3 (ipykernel)",
   "language": "python",
   "name": "python3"
  },
  "language_info": {
   "codemirror_mode": {
    "name": "ipython",
    "version": 3
   },
   "file_extension": ".py",
   "mimetype": "text/x-python",
   "name": "python",
   "nbconvert_exporter": "python",
   "pygments_lexer": "ipython3",
   "version": "3.8.10"
  }
 },
 "nbformat": 4,
 "nbformat_minor": 5
}
