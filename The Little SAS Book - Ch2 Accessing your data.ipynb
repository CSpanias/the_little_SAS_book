{
 "cells": [
  {
   "cell_type": "markdown",
   "id": "4cdd5dd6",
   "metadata": {},
   "source": [
    "# [The Little SAS Book](https://blackwells.co.uk/bookshop/product/The-Little-SAS-Book-A-Primer-Sixth-Edition-by-Delwiche-Lora-D/9781642956160)\n",
    "1. [Getting started using SAS software](#1)\n",
    "2. [Accessing your data](#2)"
   ]
  },
  {
   "cell_type": "markdown",
   "id": "6ab351cf",
   "metadata": {},
   "source": [
    "<a name='1'></a>\n",
    "# 2. Accessing your data\n",
    "1. [Methods for getting your data into SAS](#2.1)\n",
    "1. [SAS data libraries and data sets](#2.2)\n",
    "1. [Listing the contents of a SAS data set](#2.3) \n",
    "1. [Reading Excel files with the IMPORT procedure](#2.4)\n",
    "1. [Accessing Excel files using the XLSX LIBNAME engine](#2.5)\n",
    "1. [Reading Delimited files with the IMPORT procedure](#2.6)\n",
    "1. [Telling SAS where to find your raw data](#2.7)\n",
    "1. [Reading raw data seperated by spaces](#2.8)\n",
    "1. [Reading raw data arranged in columns](#2.9)\n",
    "1. [Reading raw data not in standard format](#2.10)\n",
    "1. [Selected informats](#2.11)\n",
    "1. [Mixing input styles](#2.12)\n",
    "1. [Reading messy raw data](#2.13)\n",
    "1. [Reading multiple lines of raw data per observation](#2.14)\n",
    "1. [Reading multiple observations per line of raw data](#2.15)\n",
    "1. [Reading part of a raw data file](#2.16)\n",
    "1. [Controlling input with options in the INFILE statement](#2.17)\n",
    "1. [Reading delimited files with the DATA step](#2.18)"
   ]
  },
  {
   "cell_type": "markdown",
   "id": "c825cbe7",
   "metadata": {},
   "source": [
    "<a name='2.2'></a>\n",
    "## 2.2 SAS data libraries and data sets"
   ]
  },
  {
   "cell_type": "markdown",
   "id": "5058ea8d",
   "metadata": {},
   "source": [
    "<a name='2.3'></a>\n",
    "## 2.3 Listing the contents of a SAS data set"
   ]
  },
  {
   "cell_type": "markdown",
   "id": "d942ef60",
   "metadata": {},
   "source": [
    "<a name='2.4'></a>\n",
    "## 2.4 Reading Excel files with the IMPORT procedure"
   ]
  },
  {
   "cell_type": "markdown",
   "id": "1df4ef76",
   "metadata": {},
   "source": [
    "<a name='2.5'></a>\n",
    "## 2.5 Accessing Excel files using the XLSX LIBNAME engine"
   ]
  },
  {
   "cell_type": "markdown",
   "id": "0550d936",
   "metadata": {},
   "source": [
    "<a name='2.6'></a>\n",
    "## 2.6 Reading Delimited files with the IMPORT procedure"
   ]
  },
  {
   "cell_type": "markdown",
   "id": "fdf409b3",
   "metadata": {},
   "source": [
    "<a name='2.7'></a>\n",
    "## 2.7 Telling SAS where to find your raw data"
   ]
  },
  {
   "cell_type": "markdown",
   "id": "bd59a959",
   "metadata": {},
   "source": [
    "<a name='2.8'></a>\n",
    "## 2.8 Reading raw data seperated by spaces"
   ]
  },
  {
   "cell_type": "markdown",
   "id": "35111eb0",
   "metadata": {},
   "source": [
    "<a name='2.9'></a>\n",
    "## 2.9 Reading raw data arranged in columns"
   ]
  },
  {
   "cell_type": "markdown",
   "id": "2b791ee7",
   "metadata": {},
   "source": [
    "<a name='2.10'></a>\n",
    "## 2.10 Reading raw data not in standard format"
   ]
  },
  {
   "cell_type": "markdown",
   "id": "6bb1ce13",
   "metadata": {},
   "source": [
    "<a name='2.11'></a>\n",
    "## 2.11 Selected informats"
   ]
  },
  {
   "cell_type": "markdown",
   "id": "2cd0bedb",
   "metadata": {},
   "source": [
    "<a name='2.12'></a>\n",
    "## 2.12 Mixing input styles"
   ]
  },
  {
   "cell_type": "markdown",
   "id": "3131f860",
   "metadata": {},
   "source": [
    "<a name='2.13'></a>\n",
    "## 2.13 Reading messy raw data"
   ]
  },
  {
   "cell_type": "markdown",
   "id": "71f33552",
   "metadata": {},
   "source": [
    "<a name='2.14'></a>\n",
    "## 2.14 Reading multiple lines of raw data per observation"
   ]
  },
  {
   "cell_type": "markdown",
   "id": "f83f352b",
   "metadata": {},
   "source": [
    "<a name='2.15'></a>\n",
    "## 2.15 Reading multiple observations per line of raw data"
   ]
  },
  {
   "cell_type": "markdown",
   "id": "7837d75a",
   "metadata": {},
   "source": [
    "<a name='2.16'></a>\n",
    "## 2.16 Reading part of a raw data file"
   ]
  },
  {
   "cell_type": "markdown",
   "id": "9db1bd71",
   "metadata": {},
   "source": [
    "<a name='2.17'></a>\n",
    "## 2.17 Controlling input with options in the INFILE statement"
   ]
  },
  {
   "cell_type": "markdown",
   "id": "9a994087",
   "metadata": {},
   "source": [
    "<a name='2.18'></a>\n",
    "## 2.18 Reading delimited files with the DATA step"
   ]
  }
 ],
 "metadata": {
  "kernelspec": {
   "display_name": "Python 3 (ipykernel)",
   "language": "python",
   "name": "python3"
  },
  "language_info": {
   "codemirror_mode": {
    "name": "ipython",
    "version": 3
   },
   "file_extension": ".py",
   "mimetype": "text/x-python",
   "name": "python",
   "nbconvert_exporter": "python",
   "pygments_lexer": "ipython3",
   "version": "3.8.10"
  }
 },
 "nbformat": 4,
 "nbformat_minor": 5
}
