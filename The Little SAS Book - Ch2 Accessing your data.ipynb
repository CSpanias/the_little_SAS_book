{
 "cells": [
  {
   "cell_type": "markdown",
   "id": "4cdd5dd6",
   "metadata": {},
   "source": [
    "# [The Little SAS Book](https://blackwells.co.uk/bookshop/product/The-Little-SAS-Book-A-Primer-Sixth-Edition-by-Delwiche-Lora-D/9781642956160)\n",
    "1. [Getting started using SAS software](#1)\n",
    "2. [Accessing your data](#2)"
   ]
  },
  {
   "cell_type": "markdown",
   "id": "6ab351cf",
   "metadata": {},
   "source": [
    "<a name='2'></a>\n",
    "# 2. Accessing your data\n",
    "1. [Methods for getting your data into SAS](#2.1)\n",
    "1. [SAS data libraries and data sets](#2.2)\n",
    "1. [Listing the contents of a SAS data set](#2.3) \n",
    "1. [Reading Excel files with the IMPORT procedure](#2.4)\n",
    "1. [Accessing Excel files using the XLSX LIBNAME engine](#2.5)\n",
    "1. [Reading Delimited files with the IMPORT procedure](#2.6)\n",
    "1. [Telling SAS where to find your raw data](#2.7)\n",
    "1. [Reading raw data seperated by spaces](#2.8)\n",
    "1. [Reading raw data arranged in columns](#2.9)\n",
    "1. [Reading raw data not in standard format](#2.10)\n",
    "1. [Selected informats](#2.11)\n",
    "1. [Mixing input styles](#2.12)\n",
    "1. [Reading messy raw data](#2.13)\n",
    "1. [Reading multiple lines of raw data per observation](#2.14)\n",
    "1. [Reading multiple observations per line of raw data](#2.15)\n",
    "1. [Reading part of a raw data file](#2.16)\n",
    "1. [Controlling input with options in the INFILE statement](#2.17)\n",
    "1. [Reading delimited files with the DATA step](#2.18)"
   ]
  },
  {
   "cell_type": "markdown",
   "id": "c825cbe7",
   "metadata": {},
   "source": [
    "<a name='2.1'></a>\n",
    "## 2.1 Methods for getting your data into SAS\n",
    "__Methods for accessing your data__\n",
    "1. ___Using SAS data sets___ just tell SAS which data to use (via SAS data libraries)\n",
    "2. ___Entering data directly into SAS data sets___ via _viewtable_ or _data grid_ (windows only)\n",
    "3. ___Creating SAS data sets from raw data files___ via _DATA step_ or _PROC IMPORT_\n",
    "4. ___Converting other software's data files into SAS data sets___ via _PROC IMPORT_ or convert file to flat file first\n",
    "5. ___Reading other software's data directly___ via _SAS/ACCESS products_ or _LIBNAME engine_"
   ]
  },
  {
   "cell_type": "markdown",
   "id": "5782dbc7",
   "metadata": {},
   "source": [
    "<a name='2.2'></a>\n",
    "## 2.2 SAS data libraries and data sets\n",
    "* All SAS data sets have a two-level name, e.g. _WORK.BANANA_\n",
    "* The first level is called ___libref___ (up to 8 chars), and the second ___member name___ (up to 32 chars)\n",
    "\n",
    "\n",
    "__Built-in libraries__\n",
    "1. ___WORK___ temporary SAS data sets (erased when you exit SAS), default if no library is specified\n",
    "2. ___SASHELP___ toy data sets, read-only\n",
    "3. ___SASUSER___ provided to saved your data sets, might be permanent or not\n",
    "\n",
    "\n",
    "__Temporary SAS data sets__ <br>\n",
    "* Avoid gettings the disk cluttered\n",
    "\n",
    "__Permanent SAS data sets using direct referencing__ <br>\n",
    "* When you use a data set more than once\n",
    "* Specify the path, e.g. `DATA '/home/path/filename';`\n",
    "* Saved in a library named something like _WC000001_\n",
    "\n",
    "__Permanent SAS data sets with a LIBNAME statement__ <br>\n",
    "* When you read/write many data sets in the same SAS data library\n",
    "* It is easier to use a LIBNAME statement instead of using the file path over and over, e.g. `LIBNAME libref '/home/path';`"
   ]
  },
  {
   "cell_type": "markdown",
   "id": "e07fcd3b",
   "metadata": {},
   "source": [
    "<a name='2.3'></a>\n",
    "## 2.3 Listing the contents of a SAS data set"
   ]
  },
  {
   "cell_type": "markdown",
   "id": "c6d5e075",
   "metadata": {},
   "source": [
    "<a name='2.4'></a>\n",
    "## 2.4 Reading Excel files with the IMPORT procedure"
   ]
  },
  {
   "cell_type": "markdown",
   "id": "13038f9f",
   "metadata": {},
   "source": [
    "<a name='2.5'></a>\n",
    "## 2.5 Accessing Excel files using the XLSX LIBNAME engine"
   ]
  },
  {
   "cell_type": "markdown",
   "id": "8fd39522",
   "metadata": {},
   "source": [
    "<a name='2.6'></a>\n",
    "## 2.6 Reading Delimited files with the IMPORT procedure"
   ]
  },
  {
   "cell_type": "markdown",
   "id": "0906983a",
   "metadata": {},
   "source": [
    "<a name='2.7'></a>\n",
    "## 2.7 Telling SAS where to find your raw data"
   ]
  },
  {
   "cell_type": "markdown",
   "id": "5025adc7",
   "metadata": {},
   "source": [
    "<a name='2.8'></a>\n",
    "## 2.8 Reading raw data seperated by spaces"
   ]
  },
  {
   "cell_type": "markdown",
   "id": "05718048",
   "metadata": {},
   "source": [
    "<a name='2.9'></a>\n",
    "## 2.9 Reading raw data arranged in columns"
   ]
  },
  {
   "cell_type": "markdown",
   "id": "e38cefec",
   "metadata": {},
   "source": [
    "<a name='2.10'></a>\n",
    "## 2.10 Reading raw data not in standard format"
   ]
  },
  {
   "cell_type": "markdown",
   "id": "fe4f8fba",
   "metadata": {},
   "source": [
    "<a name='2.11'></a>\n",
    "## 2.11 Selected informats"
   ]
  },
  {
   "cell_type": "markdown",
   "id": "1d11749c",
   "metadata": {},
   "source": [
    "<a name='2.12'></a>\n",
    "## 2.12 Mixing input styles"
   ]
  },
  {
   "cell_type": "markdown",
   "id": "db05358c",
   "metadata": {},
   "source": [
    "<a name='2.13'></a>\n",
    "## 2.13 Reading messy raw data"
   ]
  },
  {
   "cell_type": "markdown",
   "id": "e94a977c",
   "metadata": {},
   "source": [
    "<a name='2.14'></a>\n",
    "## 2.14 Reading multiple lines of raw data per observation"
   ]
  },
  {
   "cell_type": "markdown",
   "id": "90995192",
   "metadata": {},
   "source": [
    "<a name='2.15'></a>\n",
    "## 2.15 Reading multiple observations per line of raw data"
   ]
  },
  {
   "cell_type": "markdown",
   "id": "5b15151e",
   "metadata": {},
   "source": [
    "<a name='2.16'></a>\n",
    "## 2.16 Reading part of a raw data file"
   ]
  },
  {
   "cell_type": "markdown",
   "id": "2d429802",
   "metadata": {},
   "source": [
    "<a name='2.17'></a>\n",
    "## 2.17 Controlling input with options in the INFILE statement"
   ]
  },
  {
   "cell_type": "markdown",
   "id": "2bb98623",
   "metadata": {},
   "source": [
    "<a name='2.18'></a>\n",
    "## 2.18 Reading delimited files with the DATA step"
   ]
  }
 ],
 "metadata": {
  "kernelspec": {
   "display_name": "Python 3 (ipykernel)",
   "language": "python",
   "name": "python3"
  },
  "language_info": {
   "codemirror_mode": {
    "name": "ipython",
    "version": 3
   },
   "file_extension": ".py",
   "mimetype": "text/x-python",
   "name": "python",
   "nbconvert_exporter": "python",
   "pygments_lexer": "ipython3",
   "version": "3.8.10"
  }
 },
 "nbformat": 4,
 "nbformat_minor": 5
}
